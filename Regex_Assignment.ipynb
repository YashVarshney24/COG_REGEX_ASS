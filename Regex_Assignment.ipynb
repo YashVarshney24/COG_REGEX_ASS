{
  "nbformat": 4,
  "nbformat_minor": 0,
  "metadata": {
    "colab": {
      "name": "Regex Assignment.ipynb",
      "provenance": [],
      "collapsed_sections": [],
      "authorship_tag": "ABX9TyPp2mLHqZRjbGbPotUA05LY",
      "include_colab_link": true
    },
    "kernelspec": {
      "name": "python3",
      "display_name": "Python 3"
    },
    "language_info": {
      "name": "python"
    }
  },
  "cells": [
    {
      "cell_type": "markdown",
      "metadata": {
        "id": "view-in-github",
        "colab_type": "text"
      },
      "source": [
        "<a href=\"https://colab.research.google.com/github/YashVarshney24/COG_REGEX_ASS/blob/main/Regex_Assignment.ipynb\" target=\"_parent\"><img src=\"https://colab.research.google.com/assets/colab-badge.svg\" alt=\"Open In Colab\"/></a>"
      ]
    },
    {
      "cell_type": "markdown",
      "source": [
        "**A python program to accept a file name through command line arguments**"
      ],
      "metadata": {
        "id": "EbsSyc4mAvOa"
      }
    },
    {
      "cell_type": "code",
      "execution_count": 92,
      "metadata": {
        "colab": {
          "base_uri": "https://localhost:8080/"
        },
        "id": "RN4UvaTJt6AN",
        "outputId": "65798cd4-dfda-464e-9804-1be706c6f4ec"
      },
      "outputs": [
        {
          "output_type": "stream",
          "name": "stdout",
          "text": [
            "Enter the filename to Parse : txt1.txt\n",
            "Hello Everyone. I am Yash Varshney.\n",
            "I am in eighth (8th) semester in Aligarh Muslim university. My CPI for the semesters are\n",
            "first - 9.4\n",
            "Second - 9.3\n",
            "3rd - 9.0\n",
            "4th -  10.0\n",
            "5th - 9.5\n",
            "Sixth - 9.3\n",
            "Seventh - 9.0\n",
            "Eighth - 9.4\n",
            "\n",
            "$115 $129 ₹114 ₹524 £21\t£595\n",
            "\n",
            "24/09/2012 \n",
            "05/11/20\t09/18/2015\n",
            "\n",
            "05/25/1999\t09/13/22   12/05/2016\n",
            "\n",
            "Four letter words starting with vowel - 'Amen', 'Oman', 'East', 'Oven', 'Uper'\n"
          ]
        }
      ],
      "source": [
        "fname = input('Enter the filename to Parse : ')\n",
        "f = open(fname, \"r\")\n",
        "text = f.read()\n",
        "\n",
        "print(text)"
      ]
    },
    {
      "cell_type": "code",
      "source": [
        "import re"
      ],
      "metadata": {
        "id": "STeMCkPfBMVU"
      },
      "execution_count": 93,
      "outputs": []
    },
    {
      "cell_type": "markdown",
      "source": [
        "***Print all currencies in text, Accepted- $, ₹, £ ***"
      ],
      "metadata": {
        "id": "90C4YjbhA_Jq"
      }
    },
    {
      "cell_type": "code",
      "source": [
        "def currency(s): # Looks for all string starting with any of these $, ₹, £ and followed by some digits(even fractions). \n",
        "  x = re.findall(r'[\\$₹£]\\d+\\.?\\d*', s) # '.' and digits followed by '.' are optional as number may or may not be fractional.\n",
        "  return x"
      ],
      "metadata": {
        "id": "LWFEsR9OvrEM"
      },
      "execution_count": 94,
      "outputs": []
    },
    {
      "cell_type": "code",
      "source": [
        "cword = currency(text)\n",
        "print(cword)"
      ],
      "metadata": {
        "colab": {
          "base_uri": "https://localhost:8080/"
        },
        "id": "Z7QZvAGnBKno",
        "outputId": "81923c87-bf6b-4ef4-d90d-3c672024574a"
      },
      "execution_count": 95,
      "outputs": [
        {
          "output_type": "stream",
          "name": "stdout",
          "text": [
            "['$115', '$129', '₹114', '₹524', '£21', '£595']\n"
          ]
        }
      ]
    },
    {
      "cell_type": "markdown",
      "source": [
        "**Print all date times in the text- dd/mm/yyyy, dd/mm/yy, mm/dd/yyyy, mm/dd/yy**"
      ],
      "metadata": {
        "id": "caTsP-DCB5t1"
      }
    },
    {
      "cell_type": "code",
      "source": [
        "#function for fetching all the dates in dd/mm/yyyy format \n",
        "def ddmmyyyy(data):\n",
        "\n",
        "  # keeping the condition that the day should be from 1-31 and month from 1-12 and year should starts from  1 or 2 \n",
        "  out = re.findall(r'\\b((0[1-9]|[12][0-9]|3[01])(/)(0[1-9]|1[012])(/)([1-2][0-9]{3}))\\b', data)\n",
        "  return out\n",
        "\n",
        "#function for fetching all the dates in dd/mm/yy format\n",
        "def ddmmyy(data):\n",
        "\n",
        "  # keeping the condition that the day should be from 1-31 and month from 1-12 and year should starts from  1 or 2 \n",
        "  out = re.findall(r'\\b((0[1-9]|[12][0-9]|3[01])(/)(0[1-9]|1[012])(/)([0-9]{2}))\\b', data)\n",
        "  return out\n",
        "\n",
        "#function for fetching all the dates in mm/dd/yyyy format\n",
        "def mmddyyyy(data): \n",
        "\n",
        "  # keeping the condition that the day should be from 1-31 and month from 1-12 and year should starts from  1 or 2 \n",
        "  out = re.findall(r'\\b((0[1-9]|1[012])(/)(0[1-9]|[12][0-9]|3[01])(/)([1-2][0-9]{3}))\\b', data)\n",
        "  return out\n",
        "\n",
        "#function for fetching all the dates in mm/dd/yy format\n",
        "def mmddyy(data):\n",
        "\n",
        "  # keeping the condition that the day should be from 1-31 and month from 1-12 and year should starts from  1 or 2 \n",
        "  out = re.findall(r'\\b((0[1-9]|1[012])(/)(0[1-9]|[12][0-9]|3[01])(/)([0-9]{2}))\\b', data)\n",
        "  return out"
      ],
      "metadata": {
        "id": "1kWyL2lLBoin"
      },
      "execution_count": 96,
      "outputs": []
    },
    {
      "cell_type": "markdown",
      "source": [
        "**Fetching FORMAT dd/mm/yyyy**"
      ],
      "metadata": {
        "id": "7WdlRf6YsqYd"
      }
    },
    {
      "cell_type": "code",
      "source": [
        "x = ddmmyyyy(text)\n",
        "for val in x:\n",
        "  print(val[0])"
      ],
      "metadata": {
        "colab": {
          "base_uri": "https://localhost:8080/"
        },
        "id": "fZ374-pzGwmE",
        "outputId": "b4c9c700-9cac-4b52-ced8-63ca63f17cd1"
      },
      "execution_count": 97,
      "outputs": [
        {
          "output_type": "stream",
          "name": "stdout",
          "text": [
            "24/09/2012\n",
            "12/05/2016\n"
          ]
        }
      ]
    },
    {
      "cell_type": "markdown",
      "source": [
        "**Fetching FORMAT dd/mm/yy**"
      ],
      "metadata": {
        "id": "qokqPyKCs2hT"
      }
    },
    {
      "cell_type": "code",
      "source": [
        "x = ddmmyy(text)\n",
        "for val in x:\n",
        "  print(val[0])"
      ],
      "metadata": {
        "colab": {
          "base_uri": "https://localhost:8080/"
        },
        "id": "ULkkoZ5uGzi7",
        "outputId": "dc9a5f99-495e-4899-bd84-37872af31351"
      },
      "execution_count": 98,
      "outputs": [
        {
          "output_type": "stream",
          "name": "stdout",
          "text": [
            "05/11/20\n"
          ]
        }
      ]
    },
    {
      "cell_type": "markdown",
      "source": [
        "**Fetching FORMAT mm/dd/yyyy**"
      ],
      "metadata": {
        "id": "_1VM5NnAtbfd"
      }
    },
    {
      "cell_type": "code",
      "source": [
        "x = mmddyyyy(text)\n",
        "for val in x:\n",
        "    print(val[0])"
      ],
      "metadata": {
        "colab": {
          "base_uri": "https://localhost:8080/"
        },
        "id": "PzTzVicPtZod",
        "outputId": "6edbbc77-29da-4592-c837-c9e6452b487a"
      },
      "execution_count": 99,
      "outputs": [
        {
          "output_type": "stream",
          "name": "stdout",
          "text": [
            "09/18/2015\n",
            "05/25/1999\n",
            "12/05/2016\n"
          ]
        }
      ]
    },
    {
      "cell_type": "markdown",
      "source": [
        "**Fetching FORMAT mm/dd/yy**"
      ],
      "metadata": {
        "id": "PCEfprRh04Mp"
      }
    },
    {
      "cell_type": "code",
      "source": [
        "x = mmddyy(text)\n",
        "for val in x:\n",
        "    print(val[0])"
      ],
      "metadata": {
        "colab": {
          "base_uri": "https://localhost:8080/"
        },
        "id": "phJoK6kg0vfU",
        "outputId": "87fe0984-69cd-491c-b72d-0e9c106ea303"
      },
      "execution_count": 100,
      "outputs": [
        {
          "output_type": "stream",
          "name": "stdout",
          "text": [
            "05/11/20\n",
            "09/13/22\n"
          ]
        }
      ]
    },
    {
      "cell_type": "markdown",
      "source": [
        "**Print all cardinalities and orders- 4th, fifth, sixth, 1st, 2nd, nineteenth, fifth**"
      ],
      "metadata": {
        "id": "J10rxjUr1f61"
      }
    },
    {
      "cell_type": "code",
      "source": [
        " # Function to fetch the Orders starting with a digit followed by th,st,nd,rd\n",
        " # e.g 1st, 2nd, 3rd, 4th\n",
        "def numorder(data):\n",
        "  \n",
        "  out = re.findall(r'\\b(([1-9]+)(st|nd|rd|th))\\b|\\b((first|second|third)|(four[a-z]*|fif[a-z]*|six[a-z]*|seven[a-z]*|eigth[a-z]*|nine[a-z]*|ten[a-z]*|eleven[a-z]*|twelve[a-z]*|twenty[a-z]*|thirty[a-z]*|hundred[a-z]*|thousand[a-z]*)(st|nd|rd|th))\\b',data)\n",
        "  return out\n",
        "\n"
      ],
      "metadata": {
        "id": "ZE50gIOR08fp"
      },
      "execution_count": 101,
      "outputs": []
    },
    {
      "cell_type": "code",
      "source": [
        "x = numorder(text)\n",
        "for val in x:\n",
        "    print(val[0])"
      ],
      "metadata": {
        "colab": {
          "base_uri": "https://localhost:8080/"
        },
        "id": "07bnApM91ErP",
        "outputId": "686b898a-663c-4908-d32c-8b08d3b49225"
      },
      "execution_count": 102,
      "outputs": [
        {
          "output_type": "stream",
          "name": "stdout",
          "text": [
            "8th\n",
            "\n",
            "3rd\n",
            "4th\n",
            "5th\n"
          ]
        }
      ]
    },
    {
      "cell_type": "code",
      "source": [
        "#function to fetch the orderS(ordinals) in alphabetical order \n",
        "  #e.g. first, second, third etc\n",
        "def txtorder(data):\n",
        "  \n",
        "  # most of the ordinals starts with alphabets and ends with th, st, rd, nd\n",
        "  out = re.findall(r'\\b((first|second|third)|(four[a-z]*|fif[a-z]*|six[a-z]*|seven[a-z]*|eigth[a-z]*|nine[a-z]*|ten[a-z]*|eleven[a-z]*|twelve[a-z]*|twenty[a-z]*|thirty[a-z]*|hundred[a-z]*|thousand[a-z]*)(st|nd|rd|th))\\b', data, re.IGNORECASE)\n",
        "  # re.IGNORECASE is used case insensitive pattern matching\n",
        "  return out"
      ],
      "metadata": {
        "id": "DPPS552k1Fn6"
      },
      "execution_count": 103,
      "outputs": []
    },
    {
      "cell_type": "code",
      "source": [
        "x = txtorder(text)\n",
        "for val in x:\n",
        "  print(val[0])"
      ],
      "metadata": {
        "colab": {
          "base_uri": "https://localhost:8080/"
        },
        "id": "IqjmDDjk1JQP",
        "outputId": "ed8ff7ad-4244-45d5-f92a-12e618accfc4"
      },
      "execution_count": 104,
      "outputs": [
        {
          "output_type": "stream",
          "name": "stdout",
          "text": [
            "first\n",
            "Second\n",
            "Sixth\n",
            "Seventh\n"
          ]
        }
      ]
    },
    {
      "cell_type": "markdown",
      "source": [
        "**Print all 4 letter words that begin with vowels**"
      ],
      "metadata": {
        "id": "rKoulkjl_tym"
      }
    },
    {
      "cell_type": "code",
      "source": [
        "def words_starting_with_vowel(data): \n",
        "\n",
        "  # Starting with small or capital case vowels (a, e, i, o, u, A, E, I, O, U) followed by any 3 letters.\n",
        "  return re.findall(r'\\b[aeiouAEIOU][a-zA-Z]{3}\\b', data)"
      ],
      "metadata": {
        "id": "fhxqrTM31K_H"
      },
      "execution_count": 105,
      "outputs": []
    },
    {
      "cell_type": "code",
      "source": [
        "x = words_starting_with_vowel(text)\n",
        "print(x)"
      ],
      "metadata": {
        "colab": {
          "base_uri": "https://localhost:8080/"
        },
        "id": "XzRpGvoN1X-_",
        "outputId": "034ed81f-38fb-4997-fb24-132d3c2a531a"
      },
      "execution_count": 106,
      "outputs": [
        {
          "output_type": "stream",
          "name": "stdout",
          "text": [
            "['Amen', 'Oman', 'East', 'Oven', 'Uper']\n"
          ]
        }
      ]
    }
  ]
}