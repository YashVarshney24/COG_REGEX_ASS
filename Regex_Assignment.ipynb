{
  "nbformat": 4,
  "nbformat_minor": 0,
  "metadata": {
    "colab": {
      "name": "Regex Assignment.ipynb",
      "provenance": [],
      "collapsed_sections": [],
      "authorship_tag": "ABX9TyPnwDNmqITfkkPwubUkWTFO",
      "include_colab_link": true
    },
    "kernelspec": {
      "name": "python3",
      "display_name": "Python 3"
    },
    "language_info": {
      "name": "python"
    }
  },
  "cells": [
    {
      "cell_type": "markdown",
      "metadata": {
        "id": "view-in-github",
        "colab_type": "text"
      },
      "source": [
        "<a href=\"https://colab.research.google.com/github/YashVarshney24/COG_REGEX_ASS/blob/main/Regex_Assignment.ipynb\" target=\"_parent\"><img src=\"https://colab.research.google.com/assets/colab-badge.svg\" alt=\"Open In Colab\"/></a>"
      ]
    },
    {
      "cell_type": "markdown",
      "source": [
        "**A python program to accept a file name through command line arguments**"
      ],
      "metadata": {
        "id": "EbsSyc4mAvOa"
      }
    },
    {
      "cell_type": "code",
      "execution_count": 1,
      "metadata": {
        "colab": {
          "base_uri": "https://localhost:8080/"
        },
        "id": "RN4UvaTJt6AN",
        "outputId": "aa7858ea-5d0e-4c1f-b4d2-4756b12dc4a3"
      },
      "outputs": [
        {
          "output_type": "stream",
          "name": "stdout",
          "text": [
            "Enter the filename to Parse : txt1.txt\n",
            "Hello Everyone. I am Yash Varshney.\n",
            "I am in eighth (8th) semester in Aligarh Muslim university. My CPI for the semesters are\n",
            "first - 9.4\n",
            "Second - 9.3\n",
            "3rd - 9.0\n",
            "4th -  10.0\n",
            "5th - 9.5\n",
            "Sixth - 9.3\n",
            "Seventh - 9.0\n",
            "Eighth - 9.4\n",
            "\n",
            "$115 $129 ₹114 ₹524 £21\t£595\n",
            "\n",
            "24/09/2012 \n",
            "05/11/20\t09/18/2015\n",
            "\n",
            "05/25/1999\t09/13/22   12/05/2016\n",
            "\n",
            "Four letter words starting with vowel - 'Amen', 'Oman', 'East', 'Oven', 'Uper'\n"
          ]
        }
      ],
      "source": [
        "fname = input('Enter the filename to Parse : ')\n",
        "f = open(fname, \"r\")\n",
        "text = f.read()\n",
        "\n",
        "print(text)"
      ]
    },
    {
      "cell_type": "code",
      "source": [
        "import re"
      ],
      "metadata": {
        "id": "STeMCkPfBMVU"
      },
      "execution_count": 2,
      "outputs": []
    },
    {
      "cell_type": "markdown",
      "source": [
        "***Print all currencies in text, Accepted- $, ₹, £ ***"
      ],
      "metadata": {
        "id": "90C4YjbhA_Jq"
      }
    },
    {
      "cell_type": "code",
      "source": [
        "def currency(s): # Looks for all string starting with any of these $, ₹, £ and followed by some digits(even fractions). \n",
        "  x = re.findall(r'[\\$₹£]\\d+\\.?\\d*', s) # '.' and digits followed by '.' are optional as number may or may not be fractional.\n",
        "  return x"
      ],
      "metadata": {
        "id": "LWFEsR9OvrEM"
      },
      "execution_count": 3,
      "outputs": []
    },
    {
      "cell_type": "code",
      "source": [
        "cword = currency(text)\n",
        "print(cword)"
      ],
      "metadata": {
        "colab": {
          "base_uri": "https://localhost:8080/"
        },
        "id": "Z7QZvAGnBKno",
        "outputId": "a9750a89-2d3e-4cb5-f8cb-3e20f9289f00"
      },
      "execution_count": 4,
      "outputs": [
        {
          "output_type": "stream",
          "name": "stdout",
          "text": [
            "['$115', '$129', '₹114', '₹524', '£21', '£595']\n"
          ]
        }
      ]
    },
    {
      "cell_type": "markdown",
      "source": [
        "**Print all date times in the text- dd/mm/yyyy, dd/mm/yy, mm/dd/yyyy, mm/dd/yy**"
      ],
      "metadata": {
        "id": "caTsP-DCB5t1"
      }
    },
    {
      "cell_type": "code",
      "source": [
        "#function for fetching all the dates in dd/mm/yyyy format \n",
        "def ddmmyyyy(data):\n",
        "\n",
        "  # keeping the condition that the day should be from 1-31 and month from 1-12 and year should starts from  1 or 2 \n",
        "  out = re.findall(r'\\b((0[1-9]|[12][0-9]|3[01])(/)(0[1-9]|1[012])(/)([1-2][0-9]{3}))\\b', data)\n",
        "  return out\n",
        "\n",
        "#function for fetching all the dates in dd/mm/yy format\n",
        "def ddmmyy(data):\n",
        "\n",
        "  # keeping the condition that the day should be from 1-31 and month from 1-12 and year should starts from  1 or 2 \n",
        "  out = re.findall(r'\\b((0[1-9]|[12][0-9]|3[01])(/)(0[1-9]|1[012])(/)([0-9]{2}))\\b', data)\n",
        "  return out\n",
        "\n",
        "#function for fetching all the dates in mm/dd/yyyy format\n",
        "def mmddyyyy(data): \n",
        "\n",
        "  # keeping the condition that the day should be from 1-31 and month from 1-12 and year should starts from  1 or 2 \n",
        "  out = re.findall(r'\\b((0[1-9]|1[012])(/)(0[1-9]|[12][0-9]|3[01])(/)([1-2][0-9]{3}))\\b', data)\n",
        "  return out\n",
        "\n",
        "#function for fetching all the dates in mm/dd/yy format\n",
        "def mmddyy(data):\n",
        "\n",
        "  # keeping the condition that the day should be from 1-31 and month from 1-12 and year should starts from  1 or 2 \n",
        "  out = re.findall(r'\\b((0[1-9]|1[012])(/)(0[1-9]|[12][0-9]|3[01])(/)([0-9]{2}))\\b', data)\n",
        "  return out"
      ],
      "metadata": {
        "id": "1kWyL2lLBoin"
      },
      "execution_count": 5,
      "outputs": []
    },
    {
      "cell_type": "markdown",
      "source": [
        "**Fetching FORMAT dd/mm/yyyy**"
      ],
      "metadata": {
        "id": "7WdlRf6YsqYd"
      }
    },
    {
      "cell_type": "code",
      "source": [
        "x = ddmmyyyy(text)\n",
        "for val in x:\n",
        "  print(val[0])"
      ],
      "metadata": {
        "colab": {
          "base_uri": "https://localhost:8080/"
        },
        "id": "fZ374-pzGwmE",
        "outputId": "9cefb699-1c17-45f7-e595-7914c463e644"
      },
      "execution_count": 6,
      "outputs": [
        {
          "output_type": "stream",
          "name": "stdout",
          "text": [
            "24/09/2012\n",
            "12/05/2016\n"
          ]
        }
      ]
    },
    {
      "cell_type": "markdown",
      "source": [
        "**Fetching FORMAT dd/mm/yy**"
      ],
      "metadata": {
        "id": "qokqPyKCs2hT"
      }
    },
    {
      "cell_type": "code",
      "source": [
        "x = ddmmyy(text)\n",
        "for val in x:\n",
        "  print(val[0])"
      ],
      "metadata": {
        "colab": {
          "base_uri": "https://localhost:8080/"
        },
        "id": "ULkkoZ5uGzi7",
        "outputId": "19d75e95-fedd-4baf-b0ee-ef883a9f1f02"
      },
      "execution_count": 7,
      "outputs": [
        {
          "output_type": "stream",
          "name": "stdout",
          "text": [
            "05/11/20\n"
          ]
        }
      ]
    },
    {
      "cell_type": "markdown",
      "source": [
        "**Fetching FORMAT mm/dd/yyyy**"
      ],
      "metadata": {
        "id": "_1VM5NnAtbfd"
      }
    },
    {
      "cell_type": "code",
      "source": [
        "x = mmddyyyy(text)\n",
        "for val in x:\n",
        "    print(val[0])"
      ],
      "metadata": {
        "colab": {
          "base_uri": "https://localhost:8080/"
        },
        "id": "PzTzVicPtZod",
        "outputId": "a0866440-e769-4206-cc79-2cc85557886b"
      },
      "execution_count": 8,
      "outputs": [
        {
          "output_type": "stream",
          "name": "stdout",
          "text": [
            "09/18/2015\n",
            "05/25/1999\n",
            "12/05/2016\n"
          ]
        }
      ]
    },
    {
      "cell_type": "markdown",
      "source": [
        "**Fetching FORMAT mm/dd/yy**"
      ],
      "metadata": {
        "id": "PCEfprRh04Mp"
      }
    },
    {
      "cell_type": "code",
      "source": [
        "x = mmddyy(text)\n",
        "for val in x:\n",
        "    print(val[0])"
      ],
      "metadata": {
        "colab": {
          "base_uri": "https://localhost:8080/"
        },
        "id": "phJoK6kg0vfU",
        "outputId": "cf0aab30-62d8-4daa-867b-cc1e91a33fe0"
      },
      "execution_count": 9,
      "outputs": [
        {
          "output_type": "stream",
          "name": "stdout",
          "text": [
            "05/11/20\n",
            "09/13/22\n"
          ]
        }
      ]
    },
    {
      "cell_type": "markdown",
      "source": [
        "**Print all cardinalities and orders- 4th, fifth, sixth, 1st, 2nd, nineteenth, fifth**"
      ],
      "metadata": {
        "id": "J10rxjUr1f61"
      }
    },
    {
      "cell_type": "code",
      "source": [
        " # Function to fetch the Orders starting with a digit followed by th,st,nd,rd\n",
        " # e.g 1st, 2nd, 3rd, 4th\n",
        "def numorder(data):\n",
        "  \n",
        "  out = re.findall(r'\\b(([1-9][0-9]*)(st|nd|rd|th))\\b',data)\n",
        "  return out\n",
        "\n"
      ],
      "metadata": {
        "id": "ZE50gIOR08fp"
      },
      "execution_count": 10,
      "outputs": []
    },
    {
      "cell_type": "code",
      "source": [
        "x = numorder(text)\n",
        "for val in x:\n",
        "    print(val[0])"
      ],
      "metadata": {
        "colab": {
          "base_uri": "https://localhost:8080/"
        },
        "id": "07bnApM91ErP",
        "outputId": "343d2115-c323-4184-c55d-10d40eed1e02"
      },
      "execution_count": 11,
      "outputs": [
        {
          "output_type": "stream",
          "name": "stdout",
          "text": [
            "8th\n",
            "3rd\n",
            "4th\n",
            "5th\n"
          ]
        }
      ]
    },
    {
      "cell_type": "code",
      "source": [
        "#function to fetch the orderS(ordinals) in alphabetical order \n",
        "  #e.g. first, second, third etc\n",
        "def txtorder(data):\n",
        "  \n",
        "  # most of the ordinals starts with alphabets and ends with th, st, rd, nd\n",
        "  out = re.findall(r'\\b((first|second|third)|(four[a-z]*|fif[a-z]*|six[a-z]*|seven[a-z]*|eight[a-z]*|nin[a-z]*|ten[a-z]*|eleven[a-z]*|twel[a-z]*|thirteen[a-z]*|twenty[a-z]*|thirty[a-z]*|one[a-z]*|two[a-z]*|three[a-z]*)(st|nd|rd|th))\\b', data, re.IGNORECASE)\n",
        "  # re.IGNORECASE is used case insensitive pattern matching\n",
        "  return out"
      ],
      "metadata": {
        "id": "DPPS552k1Fn6"
      },
      "execution_count": 12,
      "outputs": []
    },
    {
      "cell_type": "code",
      "source": [
        "x = txtorder(text)\n",
        "for val in x:\n",
        "  print(val[0])"
      ],
      "metadata": {
        "colab": {
          "base_uri": "https://localhost:8080/"
        },
        "id": "IqjmDDjk1JQP",
        "outputId": "15832392-5978-4ff8-d12e-1ba2919e81ad"
      },
      "execution_count": 13,
      "outputs": [
        {
          "output_type": "stream",
          "name": "stdout",
          "text": [
            "first\n",
            "Second\n",
            "Sixth\n",
            "Seventh\n"
          ]
        }
      ]
    },
    {
      "cell_type": "markdown",
      "source": [
        "**Print all 4 letter words that begin with vowels**"
      ],
      "metadata": {
        "id": "rKoulkjl_tym"
      }
    },
    {
      "cell_type": "code",
      "source": [
        "def words_starting_with_vowel(data): \n",
        "\n",
        "  # Starting with small or capital case vowels (a, e, i, o, u, A, E, I, O, U) followed by any 3 letters.\n",
        "  return re.findall(r'\\b[aeiouAEIOU][a-zA-Z]{3}\\b', data)"
      ],
      "metadata": {
        "id": "fhxqrTM31K_H"
      },
      "execution_count": 14,
      "outputs": []
    },
    {
      "cell_type": "code",
      "source": [
        "x = words_starting_with_vowel(text)\n",
        "print(x)"
      ],
      "metadata": {
        "colab": {
          "base_uri": "https://localhost:8080/"
        },
        "id": "XzRpGvoN1X-_",
        "outputId": "273e0945-1f5b-4010-fe8e-6489ccc028d2"
      },
      "execution_count": 15,
      "outputs": [
        {
          "output_type": "stream",
          "name": "stdout",
          "text": [
            "['Amen', 'Oman', 'East', 'Oven', 'Uper']\n"
          ]
        }
      ]
    }
  ]
}